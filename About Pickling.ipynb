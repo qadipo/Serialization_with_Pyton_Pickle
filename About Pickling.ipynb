{
 "cells": [
  {
   "cell_type": "markdown",
   "id": "879fc30d",
   "metadata": {},
   "source": [
    "# File Pickling\n",
    "***\n",
    "According to __[Python Documentation on pickle module](https://docs.python.org/3/library/pickle.html)__, *Pickling* is the process whereby a Python object hierachy is converted into a byte stream, and *unpickling* is the inverse operation, whereby a byte stream (from a binary file or bytes-like object) is converted back into an object hierachy.\n",
    "\n",
    "<div class=\"alert alert-block alert-danger\">\n",
    "    <b>WARNING:</b> The pickle module is not secure. Only unpickle data you trust.\n",
    "</div>\n",
    "\n",
    "Consider signing data with __[Keyed-Hashing for Message Authentication](https://docs.python.org/3/library/hmac.html#module-hmac)__ simply abbreviated as **hmac**. This provides for a way to check the integrity of information transmitted over or stored in an unreliable medium. It provides for for mechanism to check integrity of a file based on a secret key referred to as *message authentication codes (MAC)*"
   ]
  },
  {
   "cell_type": "markdown",
   "id": "78516569",
   "metadata": {},
   "source": [
    "## Why Use Object Serialization?\n",
    "\n",
    "In order to understand the importance of serialization, we will demonstrate it with an example. We will follow the following steps:\n",
    "1. Create a nested dictionary, a dictionary of dictionaries.\n",
    "2. Write the dictionary data as a .txt file without **serialization**\n",
    "3. Load the .txt file\n",
    "4. Try accessing elements of the dictionary from the loaded .txt file"
   ]
  },
  {
   "cell_type": "code",
   "execution_count": 3,
   "id": "92589b46",
   "metadata": {},
   "outputs": [
    {
     "data": {
      "text/plain": [
       "{'employee_1': {'name': 'Alice', 'age': 32, 'role': 'Chef'},\n",
       " 'employee_2': {'name': 'Liza', 'age': 37, 'role': 'Nanny'},\n",
       " 'employee_3': {'name': 'John', 'age': 35, 'role': 'Gardener'},\n",
       " 'employee_4': {'name': 'Bobby', 'age': 28, 'role': 'Security'},\n",
       " 'employee_5': {'name': 'Akello', 'age': 29, 'role': 'Teacher'}}"
      ]
     },
     "execution_count": 3,
     "metadata": {},
     "output_type": "execute_result"
    }
   ],
   "source": [
    "# STEP 1: Creating the nested dictionary of domestic employees to XY\n",
    "employees = {\n",
    "    'employee_1' : {\n",
    "        'name': 'Alice', 'age':32, 'role':'Chef'\n",
    "    },\n",
    "    'employee_2' : {\n",
    "        'name': 'Liza', 'age':37, 'role':'Nanny'\n",
    "    },\n",
    "    'employee_3' : {\n",
    "        'name': 'John', 'age':35, 'role':'Gardener'\n",
    "    },\n",
    "    'employee_4' : {\n",
    "        'name': 'Bobby', 'age':28, 'role':'Security'\n",
    "    },\n",
    "    'employee_5' : {\n",
    "        'name': 'Akello', 'age':29, 'role':'Teacher'\n",
    "    },\n",
    "    \n",
    "}\n",
    "\n",
    "employees"
   ]
  },
  {
   "cell_type": "code",
   "execution_count": 4,
   "id": "5ab065be",
   "metadata": {},
   "outputs": [
    {
     "data": {
      "text/plain": [
       "dict"
      ]
     },
     "execution_count": 4,
     "metadata": {},
     "output_type": "execute_result"
    }
   ],
   "source": [
    "# Checking the object type\n",
    "type(employees)"
   ]
  },
  {
   "cell_type": "code",
   "execution_count": 5,
   "id": "65c5af8c",
   "metadata": {},
   "outputs": [],
   "source": [
    "# STEP 2: Writing the file into a .txt file without serialization\n",
    "with open('employees.txt','w') as data:\n",
    "    data.write(str(employees))"
   ]
  },
  {
   "cell_type": "markdown",
   "id": "68c3dce2",
   "metadata": {},
   "source": [
    "<div class=\"alert alert-block alert-info\">\n",
    "<b>NOTE:</b> The str() function is has been used to convert the employees dictionary into text because the write() method can only write strings to a file.\n",
    "</div>"
   ]
  },
  {
   "cell_type": "code",
   "execution_count": 6,
   "id": "f4a15ba0",
   "metadata": {},
   "outputs": [
    {
     "name": "stdout",
     "output_type": "stream",
     "text": [
      "{'employee_1': {'name': 'Alice', 'age': 32, 'role': 'Chef'}, 'employee_2': {'name': 'Liza', 'age': 37, 'role': 'Nanny'}, 'employee_3': {'name': 'John', 'age': 35, 'role': 'Gardener'}, 'employee_4': {'name': 'Bobby', 'age': 28, 'role': 'Security'}, 'employee_5': {'name': 'Akello', 'age': 29, 'role': 'Teacher'}}\n"
     ]
    }
   ],
   "source": [
    "# STEP 3: Lading the employees.txt file\n",
    "with open('employees.txt','r') as f:\n",
    "    # Printing the content of the file\n",
    "    for employee in f:\n",
    "        print(employee)"
   ]
  },
  {
   "cell_type": "code",
   "execution_count": 7,
   "id": "26e52849",
   "metadata": {},
   "outputs": [
    {
     "name": "stdout",
     "output_type": "stream",
     "text": [
      "<_io.TextIOWrapper name='employees.txt' mode='r' encoding='cp1252'>\n"
     ]
    }
   ],
   "source": [
    "print(f)"
   ]
  },
  {
   "cell_type": "code",
   "execution_count": 8,
   "id": "c62784d7",
   "metadata": {},
   "outputs": [
    {
     "ename": "TypeError",
     "evalue": "'_io.TextIOWrapper' object is not subscriptable",
     "output_type": "error",
     "traceback": [
      "\u001b[1;31m---------------------------------------------------------------------------\u001b[0m",
      "\u001b[1;31mTypeError\u001b[0m                                 Traceback (most recent call last)",
      "\u001b[1;32m<ipython-input-8-d7ff114c36a5>\u001b[0m in \u001b[0;36m<module>\u001b[1;34m\u001b[0m\n\u001b[0;32m      1\u001b[0m \u001b[1;31m# Trying to access a dictionary from the main container dictionary,\u001b[0m\u001b[1;33m\u001b[0m\u001b[1;33m\u001b[0m\u001b[1;33m\u001b[0m\u001b[0m\n\u001b[0;32m      2\u001b[0m \u001b[1;31m# i.e. accessing employee_1 dictionary from the employees dictionary\u001b[0m\u001b[1;33m\u001b[0m\u001b[1;33m\u001b[0m\u001b[1;33m\u001b[0m\u001b[0m\n\u001b[1;32m----> 3\u001b[1;33m \u001b[0mf\u001b[0m\u001b[1;33m[\u001b[0m\u001b[1;34m'employee_1'\u001b[0m\u001b[1;33m]\u001b[0m\u001b[1;33m\u001b[0m\u001b[1;33m\u001b[0m\u001b[0m\n\u001b[0m",
      "\u001b[1;31mTypeError\u001b[0m: '_io.TextIOWrapper' object is not subscriptable"
     ]
    }
   ],
   "source": [
    "# Trying to access a dictionary from the main container dictionary, \n",
    "# i.e. accessing employee_1 dictionary from the employees dictionary\n",
    "f['employee_1']"
   ]
  },
  {
   "cell_type": "markdown",
   "id": "35b53eeb",
   "metadata": {},
   "source": [
    "<div class=\"alert alert-block alert-danger\">\n",
    "    <b>TypeError:</b> '_io.TextIOWrapper' object is not subscriptable:\n",
    "</div>\n",
    "\n",
    "This error is thrown when we try accessing an element from the dictionary. This error occurs when we try slicing or indexing an object (data type) that does not support such operations. In this case, the object is not identified as type dictionary."
   ]
  },
  {
   "cell_type": "code",
   "execution_count": 9,
   "id": "43142826",
   "metadata": {},
   "outputs": [
    {
     "data": {
      "text/plain": [
       "_io.TextIOWrapper"
      ]
     },
     "execution_count": 9,
     "metadata": {},
     "output_type": "execute_result"
    }
   ],
   "source": [
    "# Confirming the type\n",
    "type(f)"
   ]
  },
  {
   "cell_type": "markdown",
   "id": "94365cbf",
   "metadata": {},
   "source": [
    "**_io.TextIOWrapper** is a string file that represents contents of the entire string file object. File f cannot be accessed as a dictionary since it is not one, it is a string containing the contents of the file that had been read.\n",
    "\n",
    "In our case above, the nested dictionary is now being printed as a string. And is on this that the importance of file pickling comes up! **How do we preserve the state of a file/object?**\n",
    "\n",
    "<div class=\"alert alert-block alert-success\">\n",
    "<b>Importance of Serialization:</b> Serialization allows for preservation of objects in their original state without loosing any information. In Python, we use the pickle module to serialize and deserialize data types. Note that this format cannot be loaded using any other languages since it is native to Python.\n",
    "</div>\n",
    "\n",
    "### Comparison of Pickle and JSON\n",
    "The **comparisons** between the pickle protocol and JSON __[are](https://docs.python.org/3/library/pickle.html)__:\n",
    "\n",
    "|Pickle|JSON|\n",
    "|:--|:--|\n",
    "|Binary serialization format|Text Serialization _(usually utf-8)_|\n",
    "|Not human readeable|Human readable|\n",
    "|Python specific|Interoperable with other languages|\n",
    "|Only represents one Python data type/structure|Can represent various Python data structures/types|\n",
    "|Deserializing untrusted JSON does not create an arbitrary code execution vulnerability|Deserializing untrusted pickle creates an abitrary code execution vulnerability|\n",
    "\n",
    "\n",
    "### Actual Serialization and Deserialization Operations\n",
    "- To _serialize_ an object we call the **dump()** or **dumps()** functions. Function **dump()** writes the data to a file while **dumps()** represents it as a byte object.\n",
    "- To _deserialize_ we call the **load()** or **loads()** functions. Function **load()** reads pickled objects from a file while **loads()** deserializes them from bytes-like objects.\n",
    "- To have more control over _serialization_ and _deserialization_ we create a **Pickler** or an **Unpickler** object."
   ]
  },
  {
   "cell_type": "code",
   "execution_count": 10,
   "id": "0df43726",
   "metadata": {},
   "outputs": [],
   "source": [
    "# Importing the pickle module that is used in (un)pickling\n",
    "import pickle"
   ]
  },
  {
   "cell_type": "markdown",
   "id": "94e9a798",
   "metadata": {},
   "source": [
    "> **Example 1:** Here we shall serialize and deserialize a list and use it to demonstrate that the file object preserves its original state that it can be manipulated as a list object"
   ]
  },
  {
   "cell_type": "code",
   "execution_count": 11,
   "id": "2a6dd48d",
   "metadata": {},
   "outputs": [],
   "source": [
    "# Serilaizing a list\n",
    "cities = ['Nairobi', 'Kisumu', 'Mombasa', 'nakuru', 'Eldoret']\n",
    "\n",
    "with open('cities.pkl', 'wb') as f: # We use 'wb' to write as binary\n",
    "    pickle.dump(cities, f) # Serializing the list\n",
    "    f.close()"
   ]
  },
  {
   "cell_type": "code",
   "execution_count": 12,
   "id": "1178fc34",
   "metadata": {},
   "outputs": [
    {
     "data": {
      "text/plain": [
       "'Nairobi'"
      ]
     },
     "execution_count": 12,
     "metadata": {},
     "output_type": "execute_result"
    }
   ],
   "source": [
    "# Deserializing the list\n",
    "with open('cities.pkl', 'rb') as f: # The 'rb' is used to read binary\n",
    "    unpickled_cities = pickle.load(f)\n",
    "    \n",
    "# Accessing the first element of the list\n",
    "unpickled_cities[0]"
   ]
  },
  {
   "cell_type": "markdown",
   "id": "044a2aa8",
   "metadata": {},
   "source": [
    "<div class=\"alert alert-block alert-success\">\n",
    "<b>Original state preserved: </b> The file can be manipulated as a list\n",
    "</div>"
   ]
  },
  {
   "cell_type": "markdown",
   "id": "d3a57a87",
   "metadata": {},
   "source": [
    "> **Example 2:** Here we shall work with a pandas DataFrame and use it to demostrate how using pickle can help improve performance"
   ]
  },
  {
   "cell_type": "code",
   "execution_count": 13,
   "id": "99448236",
   "metadata": {},
   "outputs": [],
   "source": [
    "# Loading the required libraries\n",
    "import time\n",
    "import pandas as pd\n",
    "import numpy as np"
   ]
  },
  {
   "cell_type": "code",
   "execution_count": 16,
   "id": "901f38e2",
   "metadata": {},
   "outputs": [
    {
     "data": {
      "text/html": [
       "<div>\n",
       "<style scoped>\n",
       "    .dataframe tbody tr th:only-of-type {\n",
       "        vertical-align: middle;\n",
       "    }\n",
       "\n",
       "    .dataframe tbody tr th {\n",
       "        vertical-align: top;\n",
       "    }\n",
       "\n",
       "    .dataframe thead th {\n",
       "        text-align: right;\n",
       "    }\n",
       "</style>\n",
       "<table border=\"1\" class=\"dataframe\">\n",
       "  <thead>\n",
       "    <tr style=\"text-align: right;\">\n",
       "      <th></th>\n",
       "      <th>weight</th>\n",
       "      <th>height</th>\n",
       "      <th>gender</th>\n",
       "    </tr>\n",
       "  </thead>\n",
       "  <tbody>\n",
       "    <tr>\n",
       "      <th>43726</th>\n",
       "      <td>59</td>\n",
       "      <td>136</td>\n",
       "      <td>Female</td>\n",
       "    </tr>\n",
       "    <tr>\n",
       "      <th>7791</th>\n",
       "      <td>93</td>\n",
       "      <td>160</td>\n",
       "      <td>Female</td>\n",
       "    </tr>\n",
       "    <tr>\n",
       "      <th>57576</th>\n",
       "      <td>103</td>\n",
       "      <td>145</td>\n",
       "      <td>Female</td>\n",
       "    </tr>\n",
       "    <tr>\n",
       "      <th>42120</th>\n",
       "      <td>76</td>\n",
       "      <td>156</td>\n",
       "      <td>Male</td>\n",
       "    </tr>\n",
       "    <tr>\n",
       "      <th>61861</th>\n",
       "      <td>85</td>\n",
       "      <td>144</td>\n",
       "      <td>Female</td>\n",
       "    </tr>\n",
       "    <tr>\n",
       "      <th>4605</th>\n",
       "      <td>60</td>\n",
       "      <td>175</td>\n",
       "      <td>Female</td>\n",
       "    </tr>\n",
       "    <tr>\n",
       "      <th>2958</th>\n",
       "      <td>74</td>\n",
       "      <td>175</td>\n",
       "      <td>Female</td>\n",
       "    </tr>\n",
       "    <tr>\n",
       "      <th>3914</th>\n",
       "      <td>95</td>\n",
       "      <td>168</td>\n",
       "      <td>Female</td>\n",
       "    </tr>\n",
       "    <tr>\n",
       "      <th>26051</th>\n",
       "      <td>82</td>\n",
       "      <td>125</td>\n",
       "      <td>Female</td>\n",
       "    </tr>\n",
       "    <tr>\n",
       "      <th>79619</th>\n",
       "      <td>90</td>\n",
       "      <td>138</td>\n",
       "      <td>Male</td>\n",
       "    </tr>\n",
       "  </tbody>\n",
       "</table>\n",
       "</div>"
      ],
      "text/plain": [
       "       weight  height  gender\n",
       "43726      59     136  Female\n",
       "7791       93     160  Female\n",
       "57576     103     145  Female\n",
       "42120      76     156    Male\n",
       "61861      85     144  Female\n",
       "4605       60     175  Female\n",
       "2958       74     175  Female\n",
       "3914       95     168  Female\n",
       "26051      82     125  Female\n",
       "79619      90     138    Male"
      ]
     },
     "execution_count": 16,
     "metadata": {},
     "output_type": "execute_result"
    }
   ],
   "source": [
    "# Generating random data to be used to create our DataFrame\n",
    "\n",
    "# Setting the random seed for reproducibility of this work\n",
    "np.random.seed(345)\n",
    "\n",
    "# Generating random data\n",
    "data = {\n",
    "    'weight' : np.random.randint(47, 113, size=100000),\n",
    "    'height' : np.random.randint(120, 187, size=100000),\n",
    "    'gender' : np.random.choice(['Male','Female'], size=100000)\n",
    "}\n",
    "\n",
    "# Creating the pandas DataFrame\n",
    "df = pd.DataFrame(data)\n",
    "\n",
    "# Viewing the 10 random values from the DataFrame\n",
    "df.sample(10)"
   ]
  },
  {
   "cell_type": "code",
   "execution_count": 17,
   "id": "355bac8a",
   "metadata": {},
   "outputs": [],
   "source": [
    "# Saving the file into a .csv file and calculating the time it takes to save\n",
    "# Start time\n",
    "start = time.time()\n",
    "\n",
    "# Saving to a .csv file\n",
    "df.to_csv('radomly_generated_df.csv')\n",
    "\n",
    "# End time\n",
    "end = time.time()\n",
    "\n",
    "# Time taken to save\n",
    "time_taken_csv = end - start"
   ]
  },
  {
   "cell_type": "code",
   "execution_count": 18,
   "id": "99059fb9",
   "metadata": {},
   "outputs": [],
   "source": [
    "# Saving the file as a pickle file and noting the time\n",
    "start = time.time()\n",
    "\n",
    "# Saving to a .pkl file\n",
    "df.to_pickle('randomly_generated_df.pkl')\n",
    "\n",
    "# End time\n",
    "end = time.time()\n",
    "\n",
    "# Time taken to save\n",
    "time_taken_pkl = end - start"
   ]
  },
  {
   "cell_type": "code",
   "execution_count": 19,
   "id": "fe7e0a76",
   "metadata": {},
   "outputs": [
    {
     "name": "stdout",
     "output_type": "stream",
     "text": [
      "Seconds taken to save .csv file  0.1512463092803955\n",
      "Seconds taken to save .pkl file  0.017955541610717773\n"
     ]
    }
   ],
   "source": [
    "# Comparing the time taken to save the two files\n",
    "print(\"Seconds taken to save .csv file \", time_taken_csv)\n",
    "print(\"Seconds taken to save .pkl file \", time_taken_pkl)"
   ]
  },
  {
   "cell_type": "code",
   "execution_count": 22,
   "id": "07a05a95",
   "metadata": {},
   "outputs": [
    {
     "name": "stdout",
     "output_type": "stream",
     "text": [
      "In this case saving a pikle file is  8.423377727025269 times faster than saving the file as a csv\n"
     ]
    }
   ],
   "source": [
    "print(\"In this case saving a pikle file is \", time_taken_csv/time_taken_pkl, \n",
    "      \"times faster than saving the file as a csv\")"
   ]
  },
  {
   "cell_type": "code",
   "execution_count": 24,
   "id": "5f74f6fe",
   "metadata": {},
   "outputs": [
    {
     "name": "stdout",
     "output_type": "stream",
     "text": [
      "Time taken to load .csv file:  0.03493165969848633\n",
      "Time taken to load .pkl file:  0.00998234748840332\n"
     ]
    }
   ],
   "source": [
    "# Time taken to read the files\n",
    "\n",
    "# Loading the csv file\n",
    "start1 = time.time()\n",
    "df_csv = pd.read_csv('radomly_generated_df.csv')\n",
    "end1 = time.time()\n",
    "print('Time taken to load .csv file: ', end1-start1)\n",
    "\n",
    "# Loading the pkl file\n",
    "start2 = time.time()\n",
    "df_pkl = pd.read_pickle('randomly_generated_df.pkl')\n",
    "end2 = time.time()\n",
    "print('Time taken to load .pkl file: ', end2 - start2)"
   ]
  },
  {
   "cell_type": "markdown",
   "id": "37a3c0f1",
   "metadata": {},
   "source": [
    "<div class=\"alert alert-block alert-success\">\n",
    "<b>Improved Performance: </b> It takes shorter time to process pickle files\n",
    "</div>"
   ]
  },
  {
   "cell_type": "code",
   "execution_count": 29,
   "id": "1001131c",
   "metadata": {},
   "outputs": [
    {
     "name": "stdout",
     "output_type": "stream",
     "text": [
      "{'employee_1': {'name': 'Alice', 'age': 32, 'role': 'Chef'}, 'employee_2': {'name': 'Liza', 'age': 37, 'role': 'Nanny'}, 'employee_3': {'name': 'John', 'age': 35, 'role': 'Gardener'}, 'employee_4': {'name': 'Bobby', 'age': 28, 'role': 'Security'}, 'employee_5': {'name': 'Akello', 'age': 29, 'role': 'Teacher'}}\n",
      "\n",
      "The first employee works as a:  Chef\n"
     ]
    }
   ],
   "source": [
    "# Pickling and Unpickling our earlier employees dictionary and accessing its components\n",
    "\n",
    "# Serializing the employees dictionary\n",
    "with open('employees_dict.pkl', 'wb') as f:\n",
    "    pickle.dump(employees, f)\n",
    "    \n",
    "# Deserializing the employees dictionary\n",
    "with open('employees_dict.pkl', 'rb') as f:\n",
    "    deserialized_dict = pickle.load(f)\n",
    "\n",
    "# Printing the dictionary\n",
    "print(deserialized_dict)\n",
    "\n",
    "# Accessing the role of the first employee in the employees dictionary\n",
    "print(\"\")\n",
    "print(\"The first employee works as a: \", employees['employee_1']['role'])"
   ]
  },
  {
   "cell_type": "markdown",
   "id": "f6f4338e",
   "metadata": {},
   "source": [
    "> We have further demonstrated that pickling preserves the state/properties of an object"
   ]
  },
  {
   "cell_type": "markdown",
   "id": "9189c9ea",
   "metadata": {},
   "source": [
    "#### Serializing a Machine Learning model using the Python pickle module\n",
    "\n",
    "Training a machine learning model takes time. Therefore, there is need to preserve the results of from a training session in a way that permits for its use and transfer to a different setup. The pickle module provides this possibility by preserving the states of models. This then makes them available for use as need arise."
   ]
  },
  {
   "cell_type": "code",
   "execution_count": 30,
   "id": "7f607a4a",
   "metadata": {},
   "outputs": [],
   "source": [
    "# Loading the required libraries\n",
    "from sklearn.linear_model import LinearRegression\n",
    "from sklearn.datasets import make_regression"
   ]
  },
  {
   "cell_type": "code",
   "execution_count": 31,
   "id": "e2c8257f",
   "metadata": {},
   "outputs": [],
   "source": [
    "# Generating regression data\n",
    "X, y = make_regression(n_samples=100, n_features=3, noise=0.1, random_state=1)"
   ]
  },
  {
   "cell_type": "code",
   "execution_count": 32,
   "id": "17316da9",
   "metadata": {},
   "outputs": [
    {
     "data": {
      "text/plain": [
       "LinearRegression()"
      ]
     },
     "execution_count": 32,
     "metadata": {},
     "output_type": "execute_result"
    }
   ],
   "source": [
    "# Training the regression model\n",
    "linear_model = LinearRegression()\n",
    "linear_model.fit(X,y)"
   ]
  },
  {
   "cell_type": "code",
   "execution_count": 33,
   "id": "d525af51",
   "metadata": {},
   "outputs": [
    {
     "name": "stdout",
     "output_type": "stream",
     "text": [
      "Intercept:  -0.010109549594705669\n",
      "Coefficients:  [44.18793068 98.97389468 58.17121618]\n",
      "Score:  0.9999993081899219\n"
     ]
    }
   ],
   "source": [
    "# Displaying the summary of the model\n",
    "print(\"Intercept: \", linear_model.intercept_)\n",
    "print(\"Coefficients: \", linear_model.coef_)\n",
    "print(\"Score: \", linear_model.score(X, y))"
   ]
  },
  {
   "cell_type": "code",
   "execution_count": 34,
   "id": "e4562820",
   "metadata": {},
   "outputs": [],
   "source": [
    "# Saving the model as a pickle file\n",
    "with open('linear_regression_model.pkl', 'wb') as f:\n",
    "    pickle.dump(linear_model, f)"
   ]
  },
  {
   "cell_type": "code",
   "execution_count": 35,
   "id": "c968a6cd",
   "metadata": {},
   "outputs": [
    {
     "name": "stdout",
     "output_type": "stream",
     "text": [
      "Intercept:  -0.010109549594705669\n",
      "Coefficients:  [44.18793068 98.97389468 58.17121618]\n",
      "Score:  0.9999993081899219\n"
     ]
    }
   ],
   "source": [
    "# Loading the saved model\n",
    "with open('linear_regression_model.pkl', 'rb') as f:\n",
    "    unserialized_linear_model = pickle.load(f)\n",
    "    \n",
    "# Confirming the model parameters\n",
    "print(\"Intercept: \", unserialized_linear_model.intercept_)\n",
    "print(\"Coefficients: \", unserialized_linear_model.coef_)\n",
    "print(\"Score: \", unserialized_linear_model.score(X, y))"
   ]
  },
  {
   "cell_type": "markdown",
   "id": "37394e00",
   "metadata": {},
   "source": [
    "The model has been preserved as and can be further used to make predictions, train on top of it or transfer to a different location."
   ]
  },
  {
   "cell_type": "markdown",
   "id": "535820a3",
   "metadata": {},
   "source": [
    "***\n",
    "#### Further Considerations\n",
    "- How to speed up workflow using the HIGHEST_PROTOCOL argument\n",
    "- Using the **cPickle** module which is written in C making it faster than the **Pickle** module\n",
    "- Other serialization formats"
   ]
  }
 ],
 "metadata": {
  "kernelspec": {
   "display_name": "Python 3",
   "language": "python",
   "name": "python3"
  },
  "language_info": {
   "codemirror_mode": {
    "name": "ipython",
    "version": 3
   },
   "file_extension": ".py",
   "mimetype": "text/x-python",
   "name": "python",
   "nbconvert_exporter": "python",
   "pygments_lexer": "ipython3",
   "version": "3.8.8"
  }
 },
 "nbformat": 4,
 "nbformat_minor": 5
}
