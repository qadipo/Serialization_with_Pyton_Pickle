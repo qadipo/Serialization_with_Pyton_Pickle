{
 "cells": [
  {
   "cell_type": "markdown",
   "id": "b92a61f9",
   "metadata": {},
   "source": [
    "# File Pickling\n",
    "***\n",
    "According to __[Python Documentation on pickle module](https://docs.python.org/3/library/pickle.html)__, *Pickling* is the process whereby a Python object hierachy is converted into a byte stream, and *unpickling* is the inverse operation, whereby a byte stream (from a binary file or bytes-like object) is converted back into an object hierachy.\n",
    "\n",
    "<div class=\"alert alert-block alert-danger\">\n",
    "    <b>WARNING:</b> The pickle module is not secure. Only unpickle data you trust.\n",
    "</div>\n",
    "\n",
    "Consider signing data with __[Keyed-Hashing for Message Authentication](https://docs.python.org/3/library/hmac.html#module-hmac)__ simply abbreviated as **hmac**. This provides for a way to check the integrity of information transmitted over or stored in an unreliable medium. It provides for for mechanism to check integrity of a file based on a secret key referred to as *message authentication codes (MAC)*"
   ]
  },
  {
   "cell_type": "markdown",
   "id": "734b28c5",
   "metadata": {},
   "source": [
    "## Why Use Object Serialization?\n",
    "\n",
    "In order to understand the importance of serialization, we will demonstrate it with an example. We will follow the following steps:\n",
    "1. Create a nested dictionary, a dictionary of dictionaries.\n",
    "2. Write the dictionary data as a .txt file without **serialization**\n",
    "3. Load the .txt file\n",
    "4. Try accessing elements of the dictionary from the loaded .txt file"
   ]
  },
  {
   "cell_type": "code",
   "execution_count": 3,
   "id": "0a349ec1",
   "metadata": {},
   "outputs": [
    {
     "data": {
      "text/plain": [
       "{'employee_1': {'name': 'Alice', 'age': 32, 'role': 'Chef'},\n",
       " 'employee_2': {'name': 'Liza', 'age': 37, 'role': 'Nanny'},\n",
       " 'employee_3': {'name': 'John', 'age': 35, 'role': 'Gardener'},\n",
       " 'employee_4': {'name': 'Bobby', 'age': 28, 'role': 'Security'},\n",
       " 'employee_5': {'name': 'Akello', 'age': 29, 'role': 'Teacher'}}"
      ]
     },
     "execution_count": 3,
     "metadata": {},
     "output_type": "execute_result"
    }
   ],
   "source": [
    "# STEP 1: Creating the nested dictionary of domestic employees to XY\n",
    "employees = {\n",
    "    'employee_1' : {\n",
    "        'name': 'Alice', 'age':32, 'role':'Chef'\n",
    "    },\n",
    "    'employee_2' : {\n",
    "        'name': 'Liza', 'age':37, 'role':'Nanny'\n",
    "    },\n",
    "    'employee_3' : {\n",
    "        'name': 'John', 'age':35, 'role':'Gardener'\n",
    "    },\n",
    "    'employee_4' : {\n",
    "        'name': 'Bobby', 'age':28, 'role':'Security'\n",
    "    },\n",
    "    'employee_5' : {\n",
    "        'name': 'Akello', 'age':29, 'role':'Teacher'\n",
    "    },\n",
    "    \n",
    "}\n",
    "\n",
    "employees"
   ]
  },
  {
   "cell_type": "code",
   "execution_count": 4,
   "id": "835bae00",
   "metadata": {},
   "outputs": [
    {
     "data": {
      "text/plain": [
       "dict"
      ]
     },
     "execution_count": 4,
     "metadata": {},
     "output_type": "execute_result"
    }
   ],
   "source": [
    "# Checking the object type\n",
    "type(employees)"
   ]
  },
  {
   "cell_type": "code",
   "execution_count": 5,
   "id": "0d30ce1a",
   "metadata": {},
   "outputs": [],
   "source": [
    "# STEP 2: Writing the file into a .txt file without serialization\n",
    "with open('employees.txt','w') as data:\n",
    "    data.write(str(employees))"
   ]
  },
  {
   "cell_type": "markdown",
   "id": "7607ea8e",
   "metadata": {},
   "source": [
    "<div class=\"alert alert-block alert-info\">\n",
    "<b>NOTE:</b> The str() function is has been used to convert the employees dictionary into text because the write() method can only write strings to a file.\n",
    "</div>"
   ]
  },
  {
   "cell_type": "code",
   "execution_count": 6,
   "id": "e2acaa2f",
   "metadata": {},
   "outputs": [
    {
     "name": "stdout",
     "output_type": "stream",
     "text": [
      "{'employee_1': {'name': 'Alice', 'age': 32, 'role': 'Chef'}, 'employee_2': {'name': 'Liza', 'age': 37, 'role': 'Nanny'}, 'employee_3': {'name': 'John', 'age': 35, 'role': 'Gardener'}, 'employee_4': {'name': 'Bobby', 'age': 28, 'role': 'Security'}, 'employee_5': {'name': 'Akello', 'age': 29, 'role': 'Teacher'}}\n"
     ]
    }
   ],
   "source": [
    "# STEP 3: Lading the employees.txt file\n",
    "with open('employees.txt','r') as f:\n",
    "    # Printing the content of the file\n",
    "    for employee in f:\n",
    "        print(employee)"
   ]
  },
  {
   "cell_type": "code",
   "execution_count": 7,
   "id": "54d58d96",
   "metadata": {},
   "outputs": [
    {
     "name": "stdout",
     "output_type": "stream",
     "text": [
      "<_io.TextIOWrapper name='employees.txt' mode='r' encoding='cp1252'>\n"
     ]
    }
   ],
   "source": [
    "print(f)"
   ]
  },
  {
   "cell_type": "code",
   "execution_count": 8,
   "id": "d81ffcdf",
   "metadata": {},
   "outputs": [
    {
     "ename": "TypeError",
     "evalue": "'_io.TextIOWrapper' object is not subscriptable",
     "output_type": "error",
     "traceback": [
      "\u001b[1;31m---------------------------------------------------------------------------\u001b[0m",
      "\u001b[1;31mTypeError\u001b[0m                                 Traceback (most recent call last)",
      "\u001b[1;32m<ipython-input-8-d7ff114c36a5>\u001b[0m in \u001b[0;36m<module>\u001b[1;34m\u001b[0m\n\u001b[0;32m      1\u001b[0m \u001b[1;31m# Trying to access a dictionary from the main container dictionary,\u001b[0m\u001b[1;33m\u001b[0m\u001b[1;33m\u001b[0m\u001b[1;33m\u001b[0m\u001b[0m\n\u001b[0;32m      2\u001b[0m \u001b[1;31m# i.e. accessing employee_1 dictionary from the employees dictionary\u001b[0m\u001b[1;33m\u001b[0m\u001b[1;33m\u001b[0m\u001b[1;33m\u001b[0m\u001b[0m\n\u001b[1;32m----> 3\u001b[1;33m \u001b[0mf\u001b[0m\u001b[1;33m[\u001b[0m\u001b[1;34m'employee_1'\u001b[0m\u001b[1;33m]\u001b[0m\u001b[1;33m\u001b[0m\u001b[1;33m\u001b[0m\u001b[0m\n\u001b[0m",
      "\u001b[1;31mTypeError\u001b[0m: '_io.TextIOWrapper' object is not subscriptable"
     ]
    }
   ],
   "source": [
    "# Trying to access a dictionary from the main container dictionary, \n",
    "# i.e. accessing employee_1 dictionary from the employees dictionary\n",
    "f['employee_1']"
   ]
  },
  {
   "cell_type": "markdown",
   "id": "dd85d0b2",
   "metadata": {},
   "source": [
    "<div class=\"alert alert-block alert-danger\">\n",
    "    <b>TypeError:</b> '_io.TextIOWrapper' object is not subscriptable:\n",
    "</div>\n",
    "\n",
    "This error is thrown when we try accessing an element from the dictionary. This error occurs when we try slicing or indexing an object (data type) that does not support such operations. In this case, the object is not identified as type dictionary."
   ]
  },
  {
   "cell_type": "code",
   "execution_count": 9,
   "id": "b46bc688",
   "metadata": {},
   "outputs": [
    {
     "data": {
      "text/plain": [
       "_io.TextIOWrapper"
      ]
     },
     "execution_count": 9,
     "metadata": {},
     "output_type": "execute_result"
    }
   ],
   "source": [
    "# Confirming the type\n",
    "type(f)"
   ]
  },
  {
   "cell_type": "markdown",
   "id": "0d3950fe",
   "metadata": {},
   "source": [
    "**_io.TextIOWrapper** is a string file that represents contents of the entire string file object. File f cannot be accessed as a dictionary since it is not one, it is a string containing the contents of the file that had been read.\n",
    "\n",
    "In our case above, the nested dictionary is now being printed as a string. And is on this that the importance of file pickling comes up! **How do we preserve the state of a file/object?**\n",
    "\n",
    "<div class=\"alert alert-block alert-success\">\n",
    "<b>Importance of Serialization:</b> Serialization allows for preservation of objects in their original state without loosing any information. In Python, we use the pickle module to serialize and deserialize data types. Note that this format cannot be loaded using any other languages since it is native to Python.\n",
    "</div>\n",
    "\n",
    "### Comparison of Pickle and JSON\n",
    "The **comparisons** between the pickle protocol and JSON __[are](https://docs.python.org/3/library/pickle.html)__:\n",
    "\n",
    "|Pickle|JSON|\n",
    "|:--|:--|\n",
    "|Binary serialization format|Text Serialization _(usually utf-8)_|\n",
    "|Not human readeable|Human readable|\n",
    "|Python specific|Interoperable with other languages|\n",
    "|Only represents one Python data type/structure|Can represent various Python data structures/types|\n",
    "|Deserializing untrusted JSON does not create an arbitrary code execution vulnerability|Deserializing untrusted pickle creates an abitrary code execution vulnerability|\n",
    "\n",
    "\n",
    "```Python\n",
    "\n",
    "```"
   ]
  },
  {
   "cell_type": "code",
   "execution_count": null,
   "id": "760a3743",
   "metadata": {},
   "outputs": [],
   "source": [
    "##"
   ]
  }
 ],
 "metadata": {
  "kernelspec": {
   "display_name": "Python 3",
   "language": "python",
   "name": "python3"
  },
  "language_info": {
   "codemirror_mode": {
    "name": "ipython",
    "version": 3
   },
   "file_extension": ".py",
   "mimetype": "text/x-python",
   "name": "python",
   "nbconvert_exporter": "python",
   "pygments_lexer": "ipython3",
   "version": "3.8.8"
  }
 },
 "nbformat": 4,
 "nbformat_minor": 5
}
